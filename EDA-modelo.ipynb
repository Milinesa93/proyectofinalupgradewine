{
 "cells": [
  {
   "cell_type": "markdown",
   "metadata": {},
   "source": [
    "## Proyecto final Upgrade HUB"
   ]
  },
  {
   "cell_type": "markdown",
   "metadata": {},
   "source": [
    "Empezamos cargando las librerías que usaremos a lo largo del proyecto"
   ]
  },
  {
   "cell_type": "code",
   "execution_count": null,
   "metadata": {
    "vscode": {
     "languageId": "powershell"
    }
   },
   "outputs": [],
   "source": []
  },
  {
   "cell_type": "code",
   "execution_count": null,
   "metadata": {
    "vscode": {
     "languageId": "powershell"
    }
   },
   "outputs": [],
   "source": []
  },
  {
   "cell_type": "code",
   "execution_count": null,
   "metadata": {
    "vscode": {
     "languageId": "powershell"
    }
   },
   "outputs": [],
   "source": []
  },
  {
   "cell_type": "code",
   "execution_count": null,
   "metadata": {
    "vscode": {
     "languageId": "powershell"
    }
   },
   "outputs": [],
   "source": []
  },
  {
   "cell_type": "code",
   "execution_count": null,
   "metadata": {
    "vscode": {
     "languageId": "powershell"
    }
   },
   "outputs": [],
   "source": []
  },
  {
   "cell_type": "code",
   "execution_count": 46,
   "metadata": {},
   "outputs": [],
   "source": [
    "import pandas as pd\n",
    "import numpy as np\n",
    "import matplotlib.pyplot as plt\n",
    "import seaborn as sns\n",
    "import statistics as stats\n",
    "import sklearn as sk\n",
    "from sklearn.model_selection import train_test_split\n",
    "from sklearn.preprocessing import LabelEncoder\n",
    "from sklearn.ensemble import RandomForestClassifier\n",
    "from sklearn.metrics import classification_report, accuracy_score\n"
   ]
  },
  {
   "cell_type": "markdown",
   "metadata": {},
   "source": [
    "A continuación, cargamos nuestros datos y haremos un pequeño análisis descriptivo para ver si es necesario procesar los datos"
   ]
  },
  {
   "cell_type": "code",
   "execution_count": null,
   "metadata": {},
   "outputs": [],
   "source": [
    "df_wines = pd.read_csv(\"wines_SPA.csv\")\n",
    "df_wines.head()"
   ]
  },
  {
   "cell_type": "code",
   "execution_count": null,
   "metadata": {},
   "outputs": [],
   "source": [
    "df_wines.describe()"
   ]
  },
  {
   "cell_type": "code",
   "execution_count": null,
   "metadata": {},
   "outputs": [],
   "source": [
    "df_wines.isnull().sum()"
   ]
  },
  {
   "cell_type": "code",
   "execution_count": null,
   "metadata": {},
   "outputs": [],
   "source": [
    "df_wines.head(20)"
   ]
  },
  {
   "cell_type": "code",
   "execution_count": null,
   "metadata": {},
   "outputs": [],
   "source": [
    "df_wines[\"wine\"].mode()"
   ]
  },
  {
   "cell_type": "code",
   "execution_count": null,
   "metadata": {},
   "outputs": [],
   "source": [
    "null_percentage = df_wines.isnull().sum() / len(df_wines) * 100\n",
    "\n",
    "\n",
    "import seaborn as sns\n",
    "\n",
    "null_percentage = df_wines.isnull().sum() / len(df_wines) * 100\n",
    "\n",
    "plt.figure(figsize=(10, 6))\n",
    "plt.title('Valores nulos en el dataset')\n",
    "sns.set_palette(\"coolwarm\")\n",
    "sns.barplot(x=null_percentage.index, y=null_percentage.values)\n",
    "plt.xticks(rotation=45)\n",
    "plt.xlabel('Columnas',color='white', fontsize=15)\n",
    "plt.ylabel('Porcentaje de valores nulos',color='black', fontsize=15)\n",
    "plt.title('Valores nulos en el dataset', color='black', fontsize=15)\n",
    "# Set the style to whitegrid\n",
    "sns.set_style(\"whitegrid\")\n",
    "\n",
    "plt.gca().set_facecolor('none')\n",
    "plt.savefig(\"valores_nulos.png\")  # Guardar la imagen\n",
    "plt.show()"
   ]
  },
  {
   "cell_type": "code",
   "execution_count": null,
   "metadata": {
    "vscode": {
     "languageId": "powershell"
    }
   },
   "outputs": [],
   "source": [
    "filtered_df = df_wines[df_wines['acidity'].isnull() | df_wines['body'].isnull()]\n",
    "filtered_df"
   ]
  },
  {
   "cell_type": "markdown",
   "metadata": {},
   "source": [
    "Viendo que es un número bajo de valores nulos y que no son facilmente reemplazables (debido a que puede afectar al estudio) procederemos a eliminarlos"
   ]
  },
  {
   "cell_type": "code",
   "execution_count": null,
   "metadata": {
    "vscode": {
     "languageId": "powershell"
    }
   },
   "outputs": [],
   "source": [
    "# eliminar filas que tengan body y acidity nulos\n",
    "df_wines_cleanbodyacid = df_wines.drop(filtered_df.index)"
   ]
  },
  {
   "cell_type": "code",
   "execution_count": null,
   "metadata": {
    "vscode": {
     "languageId": "powershell"
    }
   },
   "outputs": [],
   "source": [
    "df_wines_cleanbodyacid.isnull().sum()   "
   ]
  },
  {
   "cell_type": "code",
   "execution_count": null,
   "metadata": {
    "vscode": {
     "languageId": "powershell"
    }
   },
   "outputs": [],
   "source": [
    "df_wines_cleanbodyacid.head()"
   ]
  },
  {
   "cell_type": "markdown",
   "metadata": {},
   "source": [
    "Al cargar los datos en power BI descubrimos que habia valores nulos camuflados en la base de datos donde en vez de poner el año ponia \"N.V.\", asi que procederemos a sustituirlo por valores nulos y posteriormente eliminarlos"
   ]
  },
  {
   "cell_type": "code",
   "execution_count": null,
   "metadata": {
    "vscode": {
     "languageId": "powershell"
    }
   },
   "outputs": [],
   "source": [
    "filtered_df_YEAR = df_wines_cleanbodyacid[df_wines_cleanbodyacid['year'] == 'N.V.']\n",
    "filtered_df_YEAR"
   ]
  },
  {
   "cell_type": "code",
   "execution_count": null,
   "metadata": {
    "vscode": {
     "languageId": "powershell"
    }
   },
   "outputs": [],
   "source": [
    "df_wines_cleanbodyacid[\"year\"] = df_wines_cleanbodyacid[\"year\"].replace(\"N.V.\", np.nan)"
   ]
  },
  {
   "cell_type": "code",
   "execution_count": null,
   "metadata": {
    "vscode": {
     "languageId": "powershell"
    }
   },
   "outputs": [],
   "source": [
    "df_wines_cleanbodyacid.isnull().sum()"
   ]
  },
  {
   "cell_type": "code",
   "execution_count": null,
   "metadata": {
    "vscode": {
     "languageId": "powershell"
    }
   },
   "outputs": [],
   "source": [
    "df_wines_cleanbodyacidyear = df_wines_cleanbodyacid.dropna()"
   ]
  },
  {
   "cell_type": "code",
   "execution_count": null,
   "metadata": {
    "vscode": {
     "languageId": "powershell"
    }
   },
   "outputs": [],
   "source": [
    "df_wines_cleanbodyacidyear.isnull().sum()"
   ]
  },
  {
   "cell_type": "markdown",
   "metadata": {},
   "source": [
    "Por último creamos un nuevo csv con la base de datos limpia que sera con el que trabajaremos a partir de ahora"
   ]
  },
  {
   "cell_type": "code",
   "execution_count": null,
   "metadata": {
    "vscode": {
     "languageId": "powershell"
    }
   },
   "outputs": [],
   "source": [
    "df_wines_cleanbodyacidyear.to_csv('dfclean.csv', index=False)"
   ]
  },
  {
   "cell_type": "code",
   "execution_count": 45,
   "metadata": {
    "vscode": {
     "languageId": "powershell"
    }
   },
   "outputs": [
    {
     "data": {
      "text/html": [
       "<div>\n",
       "<style scoped>\n",
       "    .dataframe tbody tr th:only-of-type {\n",
       "        vertical-align: middle;\n",
       "    }\n",
       "\n",
       "    .dataframe tbody tr th {\n",
       "        vertical-align: top;\n",
       "    }\n",
       "\n",
       "    .dataframe thead th {\n",
       "        text-align: right;\n",
       "    }\n",
       "</style>\n",
       "<table border=\"1\" class=\"dataframe\">\n",
       "  <thead>\n",
       "    <tr style=\"text-align: right;\">\n",
       "      <th></th>\n",
       "      <th>winery</th>\n",
       "      <th>wine</th>\n",
       "      <th>year</th>\n",
       "      <th>rating</th>\n",
       "      <th>num_reviews</th>\n",
       "      <th>country</th>\n",
       "      <th>region</th>\n",
       "      <th>price</th>\n",
       "      <th>type</th>\n",
       "      <th>body</th>\n",
       "      <th>acidity</th>\n",
       "    </tr>\n",
       "  </thead>\n",
       "  <tbody>\n",
       "    <tr>\n",
       "      <th>0</th>\n",
       "      <td>Teso La Monja</td>\n",
       "      <td>Tinto</td>\n",
       "      <td>2013</td>\n",
       "      <td>4.9</td>\n",
       "      <td>58</td>\n",
       "      <td>Espana</td>\n",
       "      <td>Toro</td>\n",
       "      <td>995.00</td>\n",
       "      <td>Toro Red</td>\n",
       "      <td>5.0</td>\n",
       "      <td>3.0</td>\n",
       "    </tr>\n",
       "    <tr>\n",
       "      <th>1</th>\n",
       "      <td>Artadi</td>\n",
       "      <td>Vina El Pison</td>\n",
       "      <td>2018</td>\n",
       "      <td>4.9</td>\n",
       "      <td>31</td>\n",
       "      <td>Espana</td>\n",
       "      <td>Vino de Espana</td>\n",
       "      <td>313.50</td>\n",
       "      <td>Tempranillo</td>\n",
       "      <td>4.0</td>\n",
       "      <td>2.0</td>\n",
       "    </tr>\n",
       "    <tr>\n",
       "      <th>2</th>\n",
       "      <td>Vega Sicilia</td>\n",
       "      <td>Unico</td>\n",
       "      <td>2009</td>\n",
       "      <td>4.8</td>\n",
       "      <td>1793</td>\n",
       "      <td>Espana</td>\n",
       "      <td>Ribera del Duero</td>\n",
       "      <td>324.95</td>\n",
       "      <td>Ribera Del Duero Red</td>\n",
       "      <td>5.0</td>\n",
       "      <td>3.0</td>\n",
       "    </tr>\n",
       "    <tr>\n",
       "      <th>3</th>\n",
       "      <td>Vega Sicilia</td>\n",
       "      <td>Unico</td>\n",
       "      <td>1999</td>\n",
       "      <td>4.8</td>\n",
       "      <td>1705</td>\n",
       "      <td>Espana</td>\n",
       "      <td>Ribera del Duero</td>\n",
       "      <td>692.96</td>\n",
       "      <td>Ribera Del Duero Red</td>\n",
       "      <td>5.0</td>\n",
       "      <td>3.0</td>\n",
       "    </tr>\n",
       "    <tr>\n",
       "      <th>4</th>\n",
       "      <td>Vega Sicilia</td>\n",
       "      <td>Unico</td>\n",
       "      <td>1996</td>\n",
       "      <td>4.8</td>\n",
       "      <td>1309</td>\n",
       "      <td>Espana</td>\n",
       "      <td>Ribera del Duero</td>\n",
       "      <td>778.06</td>\n",
       "      <td>Ribera Del Duero Red</td>\n",
       "      <td>5.0</td>\n",
       "      <td>3.0</td>\n",
       "    </tr>\n",
       "  </tbody>\n",
       "</table>\n",
       "</div>"
      ],
      "text/plain": [
       "          winery           wine  year  rating  num_reviews country  \\\n",
       "0  Teso La Monja          Tinto  2013     4.9           58  Espana   \n",
       "1         Artadi  Vina El Pison  2018     4.9           31  Espana   \n",
       "2   Vega Sicilia          Unico  2009     4.8         1793  Espana   \n",
       "3   Vega Sicilia          Unico  1999     4.8         1705  Espana   \n",
       "4   Vega Sicilia          Unico  1996     4.8         1309  Espana   \n",
       "\n",
       "             region   price                  type  body  acidity  \n",
       "0              Toro  995.00              Toro Red   5.0      3.0  \n",
       "1    Vino de Espana  313.50           Tempranillo   4.0      2.0  \n",
       "2  Ribera del Duero  324.95  Ribera Del Duero Red   5.0      3.0  \n",
       "3  Ribera del Duero  692.96  Ribera Del Duero Red   5.0      3.0  \n",
       "4  Ribera del Duero  778.06  Ribera Del Duero Red   5.0      3.0  "
      ]
     },
     "execution_count": 45,
     "metadata": {},
     "output_type": "execute_result"
    }
   ],
   "source": [
    "dfclean = pd.read_csv('dfclean.csv')\n",
    "dfclean.head()"
   ]
  },
  {
   "cell_type": "code",
   "execution_count": null,
   "metadata": {
    "vscode": {
     "languageId": "powershell"
    }
   },
   "outputs": [],
   "source": [
    "\n",
    "sns.set(style=\"whitegrid\")\n",
    "def create_boxplot(df, column, title):\n",
    "    plt.figure(figsize=(10, 6))\n",
    "    ax = sns.boxplot(x=df[column])\n",
    "    ax.set_xticklabels(df['type'], rotation=45, ha='right')\n",
    "    plt.title(title)\n",
    "    plt.show()\n",
    "create_boxplot(dfclean, 'num_reviews', 'Boxplot de Número de Reseñas')\n",
    "create_boxplot(dfclean, 'price', 'Boxplot de Precio')\n",
    "create_boxplot(dfclean, 'body', 'Boxplot de Cuerpo')"
   ]
  },
  {
   "cell_type": "markdown",
   "metadata": {},
   "source": [
    "Resultados de la detección de outliers\n",
    "\n",
    "\t1.\tRating (calificación) Total de outliers detectados: 596. Estos outliers pueden indicar vinos que recibieron calificaciones extremadamente altas o bajas en comparación con otros.\n",
    "\t2.\tNúmero de reseñas Total de outliers detectados: 1622: sugiere que algunos vinos han recibido un número de reseñas significativamente mayor o menor que otros. \n",
    "\t3.\tPrecio Total de outliers detectados: 436\n",
    "\t4.\tCuerpo Total de outliers detectados: 34\n",
    "\t5.\tAcidez Total de outliers detectados: 294\n"
   ]
  },
  {
   "cell_type": "markdown",
   "metadata": {},
   "source": [
    "## Modelo de clasificación random forest"
   ]
  },
  {
   "cell_type": "code",
   "execution_count": 47,
   "metadata": {
    "vscode": {
     "languageId": "powershell"
    }
   },
   "outputs": [],
   "source": [
    "df= pd.read_csv(\"dfclean.csv\") "
   ]
  },
  {
   "cell_type": "code",
   "execution_count": null,
   "metadata": {
    "vscode": {
     "languageId": "powershell"
    }
   },
   "outputs": [],
   "source": [
    "## Hacien uso de la funcion label encoder codificamos las variables\n",
    "label_encoders = {}\n",
    "for column in ['wine', 'country', 'region', 'type']:\n",
    "    le = LabelEncoder()\n",
    "    df[column] = le.fit_transform(df[column])\n",
    "    label_encoders[column] = le"
   ]
  },
  {
   "cell_type": "code",
   "execution_count": null,
   "metadata": {
    "vscode": {
     "languageId": "powershell"
    }
   },
   "outputs": [],
   "source": [
    "#definimos la variable objetivo, bodega en nuestro caso. \n",
    "X = df.drop(columns='winery')\n",
    "y = df['winery']"
   ]
  },
  {
   "cell_type": "code",
   "execution_count": null,
   "metadata": {
    "vscode": {
     "languageId": "powershell"
    }
   },
   "outputs": [],
   "source": [
    "#generamos los split de entrenamiento y testeo en proporcion 80 20\n",
    "X_train, X_test, y_train, y_test = train_test_split(X, y, test_size=0.2, random_state=42)"
   ]
  },
  {
   "cell_type": "code",
   "execution_count": null,
   "metadata": {
    "vscode": {
     "languageId": "powershell"
    }
   },
   "outputs": [],
   "source": [
    "# Creamos el modelo random forest usando la libreria scikit-learn, fijamos el numero de arboles en 100 y generamos una semilla para asegurar que sea reproducible\n",
    "rf_model = RandomForestClassifier(n_estimators=100, random_state=42)\n",
    "#a continuacion enttrenamos el modelos usando los splits del paso anterior\n",
    "rf_model.fit(X_train, y_train)"
   ]
  },
  {
   "cell_type": "code",
   "execution_count": null,
   "metadata": {
    "vscode": {
     "languageId": "powershell"
    }
   },
   "outputs": [],
   "source": [
    "#ejecutamos el modelo y usando sus predicciones calculamos los estadisticos para ver como de preciso es\n",
    "y_pred = rf_model.predict(X_test)\n",
    "print(\"Accuracy:\", accuracy_score(y_test, y_pred))\n",
    "print(\"Classification Report:\\n\", classification_report(y_test, y_pred))"
   ]
  },
  {
   "cell_type": "code",
   "execution_count": null,
   "metadata": {
    "vscode": {
     "languageId": "powershell"
    }
   },
   "outputs": [],
   "source": [
    "#Creamos un array en el que asignamos a cada variable su valor de varianza explicada\n",
    "feature_importances = rf_model.feature_importances_\n",
    "features = X.columns\n",
    "\n",
    "#creamos un dataframe con los datos del paso anterior\n",
    "importance_df = pd.DataFrame({'Feature': features, 'Importance': feature_importances})\n",
    "\n",
    "#ordenamos el dataframe por orden de importancia\n",
    "importance_df = importance_df.sort_values(by='Importance', ascending=False)\n",
    "\n",
    "#lo graficamos y guardamos la imagen\n",
    "plt.figure(figsize=(10, 6))\n",
    "sns.barplot(x='Importance', y='Feature', data=importance_df)\n",
    "plt.title('Importancia de las Características en el Modelo de Random Forest')\n",
    "plt.xlabel('Importancia')\n",
    "plt.ylabel('Característica')\n",
    "plt.show()"
   ]
  },
  {
   "cell_type": "markdown",
   "metadata": {},
   "source": [
    "## Probamos el modelo que luego añadiremos al streamlit, añadiendo entradas por teclado para probar las predicciones"
   ]
  },
  {
   "cell_type": "code",
   "execution_count": null,
   "metadata": {
    "vscode": {
     "languageId": "powershell"
    }
   },
   "outputs": [],
   "source": [
    "df = pd.read_csv(\"dfclean.csv\")\n",
    "\n",
    "# Se convierten las variables categóricas a numéricas\n",
    "label_encoders = {}\n",
    "for column in ['wine', 'country', 'region', 'type']:\n",
    "    le = LabelEncoder()\n",
    "    df[column] = le.fit_transform(df[column])\n",
    "    label_encoders[column] = le\n",
    "\n",
    "# se define la variable objetivo en nuestro caso hemos elegido la bodega\n",
    "X = df.drop(columns='winery')\n",
    "y = df['winery']\n",
    "\n",
    "# Se crean el conjunto de train y test\n",
    "X_train, X_test, y_train, y_test = train_test_split(X, y, test_size=0.2, random_state=42)\n",
    "\n",
    "# Crear y entrenar el modelo de Random Forest\n",
    "rf_model = RandomForestClassifier(n_estimators=100, random_state=42)\n",
    "rf_model.fit(X_train, y_train)\n",
    "\n",
    "# obtenemos los estadisticos del modelo\n",
    "y_pred = rf_model.predict(X_test)\n",
    "print(\"Accuracy:\", accuracy_score(y_test, y_pred))\n",
    "print(\"Classification Report:\\n\", classification_report(y_test, y_pred))\n",
    "\n",
    "\n",
    "def predict_winery(wine, year, rating, num_reviews, country, region, price, wine_type, body, acidity):\n",
    "    #se codifican las variables\n",
    "    wine = label_encoders['wine'].transform([wine])[0]\n",
    "    country = label_encoders['country'].transform([country])[0]\n",
    "    region = label_encoders['region'].transform([region])[0]\n",
    "    wine_type = label_encoders['type'].transform([wine_type])[0]\n",
    "    \n",
    "    \n",
    "    new_data = pd.DataFrame({\n",
    "        'wine': [wine],\n",
    "        'year': [year],\n",
    "        'rating': [rating],\n",
    "        'num_reviews': [num_reviews],\n",
    "        'country': [country],\n",
    "        'region': [region],\n",
    "        'price': [price],\n",
    "        'type': [wine_type],\n",
    "        'body': [body],\n",
    "        'acidity': [acidity]\n",
    "    })\n",
    "\n",
    "    # Realizar la predicción\n",
    "    prediction = rf_model.predict(new_data)\n",
    "    return prediction[0]\n",
    "\n",
    "# Se piden los valores por pantalla\n",
    "print(\"Por favor ingrese los valores del vino para predecir la bodega:\")\n",
    "wine = input(\"Tipo de Vino (e.g., Tinto): \")\n",
    "year = (input(\"Año del Vino (e.g., 2013): \"))\n",
    "rating = (input(\"Rating del Vino (e.g., 4.9): \"))\n",
    "num_reviews = int(input(\"Número de Reviews (e.g., 58): \"))\n",
    "country = input(\"País del Vino (e.g., Espana): \")\n",
    "region = input(\"Región del Vino (e.g., Toro): \")\n",
    "price = (input(\"Precio del Vino (e.g., 995.0): \"))\n",
    "wine_type = input(\"Tipo de Vino (e.g., Toro Red): \")\n",
    "body = (input(\"Cuerpo del Vino (e.g., 5.0): \"))\n",
    "acidity = (input(\"Acidez del Vino (e.g., 3.0): \"))\n",
    "\n",
    "# Realizar la predicción\n",
    "prediction = predict_winery(wine, year, rating, num_reviews, country, region, price, wine_type, body, acidity)\n",
    "print(f\"La predicción de la bodega es: {prediction}\")"
   ]
  }
 ],
 "metadata": {
  "kernelspec": {
   "display_name": "Python 3",
   "language": "python",
   "name": "python3"
  },
  "language_info": {
   "codemirror_mode": {
    "name": "ipython",
    "version": 3
   },
   "file_extension": ".py",
   "mimetype": "text/x-python",
   "name": "python",
   "nbconvert_exporter": "python",
   "pygments_lexer": "ipython3",
   "version": "3.11.7"
  }
 },
 "nbformat": 4,
 "nbformat_minor": 2
}
