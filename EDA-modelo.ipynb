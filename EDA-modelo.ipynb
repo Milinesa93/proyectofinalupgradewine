{
 "cells": [
  {
   "cell_type": "markdown",
   "metadata": {},
   "source": [
    "## Proyecto final Upgrade HUB"
   ]
  },
  {
   "cell_type": "markdown",
   "metadata": {},
   "source": [
    "Empezamos cargando las librerías que usaremos a lo largo del proyecto"
   ]
  },
  {
   "cell_type": "code",
   "execution_count": null,
   "metadata": {},
   "outputs": [],
   "source": [
    "import pandas as pd\n",
    "import numpy as np\n",
    "import matplotlib.pyplot as plt\n",
    "import seaborn as sns\n",
    "import statistics as stats\n",
    "import sklearn as sk\n",
    "from sklearn.model_selection import train_test_split\n",
    "from sklearn.preprocessing import LabelEncoder\n",
    "from sklearn.ensemble import RandomForestClassifier\n",
    "from sklearn.metrics import classification_report, accuracy_score\n"
   ]
  },
  {
   "cell_type": "markdown",
   "metadata": {},
   "source": [
    "A continuación, cargamos nuestros datos y haremos un pequeño análisis descriptivo para ver si es necesario procesar los datos"
   ]
  },
  {
   "cell_type": "code",
   "execution_count": null,
   "metadata": {},
   "outputs": [],
   "source": [
    "df_wines = pd.read_csv(\"wines_SPA.csv\")\n",
    "df_wines.head()"
   ]
  },
  {
   "cell_type": "code",
   "execution_count": null,
   "metadata": {},
   "outputs": [],
   "source": [
    "df_wines.describe()"
   ]
  },
  {
   "cell_type": "code",
   "execution_count": null,
   "metadata": {},
   "outputs": [],
   "source": [
    "df_wines.isnull().sum()"
   ]
  },
  {
   "cell_type": "code",
   "execution_count": null,
   "metadata": {},
   "outputs": [],
   "source": [
    "df_wines.head(20)"
   ]
  },
  {
   "cell_type": "code",
   "execution_count": null,
   "metadata": {},
   "outputs": [],
   "source": [
    "df_wines[\"wine\"].mode()"
   ]
  },
  {
   "cell_type": "code",
   "execution_count": null,
   "metadata": {},
   "outputs": [],
   "source": [
    "null_percentage = df_wines.isnull().sum() / len(df_wines) * 100\n",
    "\n",
    "\n",
    "import seaborn as sns\n",
    "\n",
    "null_percentage = df_wines.isnull().sum() / len(df_wines) * 100\n",
    "\n",
    "plt.figure(figsize=(10, 6))\n",
    "plt.title('Valores nulos en el dataset')\n",
    "sns.set_palette(\"coolwarm\")\n",
    "sns.barplot(x=null_percentage.index, y=null_percentage.values)\n",
    "plt.xticks(rotation=45)\n",
    "plt.xlabel('Columnas',color='white', fontsize=15)\n",
    "plt.ylabel('Porcentaje de valores nulos',color='black', fontsize=15)\n",
    "plt.title('Valores nulos en el dataset', color='black', fontsize=15)\n",
    "# Set the style to whitegrid\n",
    "sns.set_style(\"whitegrid\")\n",
    "\n",
    "plt.gca().set_facecolor('none')\n",
    "plt.savefig(\"valores_nulos.png\")  # Guardar la imagen\n",
    "plt.show()"
   ]
  },
  {
   "cell_type": "code",
   "execution_count": null,
   "metadata": {
    "vscode": {
     "languageId": "powershell"
    }
   },
   "outputs": [],
   "source": [
    "filtered_df = df_wines[df_wines['acidity'].isnull() | df_wines['body'].isnull()]\n",
    "filtered_df"
   ]
  },
  {
   "cell_type": "markdown",
   "metadata": {},
   "source": [
    "Viendo que es un número bajo de valores nulos y que no son facilmente reemplazables (debido a que puede afectar al estudio) procederemos a eliminarlos"
   ]
  },
  {
   "cell_type": "code",
   "execution_count": null,
   "metadata": {
    "vscode": {
     "languageId": "powershell"
    }
   },
   "outputs": [],
   "source": [
    "# eliminar filas que tengan body y acidity nulos\n",
    "df_wines_cleanbodyacid = df_wines.drop(filtered_df.index)"
   ]
  },
  {
   "cell_type": "code",
   "execution_count": null,
   "metadata": {
    "vscode": {
     "languageId": "powershell"
    }
   },
   "outputs": [],
   "source": [
    "df_wines_cleanbodyacid.isnull().sum()   "
   ]
  },
  {
   "cell_type": "code",
   "execution_count": null,
   "metadata": {
    "vscode": {
     "languageId": "powershell"
    }
   },
   "outputs": [],
   "source": [
    "df_wines_cleanbodyacid.head()"
   ]
  },
  {
   "cell_type": "markdown",
   "metadata": {},
   "source": [
    "Al cargar los datos en power BI descubrimos que habia valores nulos camuflados en la base de datos donde en vez de poner el año ponia \"N.V.\", asi que procederemos a sustituirlo por valores nulos y posteriormente eliminarlos"
   ]
  },
  {
   "cell_type": "code",
   "execution_count": null,
   "metadata": {
    "vscode": {
     "languageId": "powershell"
    }
   },
   "outputs": [],
   "source": [
    "filtered_df_YEAR = df_wines_cleanbodyacid[df_wines_cleanbodyacid['year'] == 'N.V.']\n",
    "filtered_df_YEAR"
   ]
  },
  {
   "cell_type": "code",
   "execution_count": null,
   "metadata": {
    "vscode": {
     "languageId": "powershell"
    }
   },
   "outputs": [],
   "source": [
    "df_wines_cleanbodyacid[\"year\"] = df_wines_cleanbodyacid[\"year\"].replace(\"N.V.\", np.nan)"
   ]
  },
  {
   "cell_type": "code",
   "execution_count": null,
   "metadata": {
    "vscode": {
     "languageId": "powershell"
    }
   },
   "outputs": [],
   "source": [
    "df_wines_cleanbodyacid.isnull().sum()"
   ]
  },
  {
   "cell_type": "code",
   "execution_count": null,
   "metadata": {
    "vscode": {
     "languageId": "powershell"
    }
   },
   "outputs": [],
   "source": [
    "df_wines_cleanbodyacidyear = df_wines_cleanbodyacid.dropna()"
   ]
  },
  {
   "cell_type": "code",
   "execution_count": null,
   "metadata": {
    "vscode": {
     "languageId": "powershell"
    }
   },
   "outputs": [],
   "source": [
    "df_wines_cleanbodyacidyear.isnull().sum()"
   ]
  },
  {
   "cell_type": "markdown",
   "metadata": {},
   "source": [
    "Por último creamos un nuevo csv con la base de datos limpia que sera con el que trabajaremos a partir de ahora"
   ]
  },
  {
   "cell_type": "code",
   "execution_count": null,
   "metadata": {
    "vscode": {
     "languageId": "powershell"
    }
   },
   "outputs": [],
   "source": [
    "df_wines_cleanbodyacidyear.to_csv('dfclean.csv', index=False)"
   ]
  },
  {
   "cell_type": "code",
   "execution_count": null,
   "metadata": {
    "vscode": {
     "languageId": "powershell"
    }
   },
   "outputs": [],
   "source": [
    "dfclean = pd.read_csv('dfclean.csv')\n",
    "dfclean.head()"
   ]
  },
  {
   "cell_type": "code",
   "execution_count": null,
   "metadata": {
    "vscode": {
     "languageId": "powershell"
    }
   },
   "outputs": [],
   "source": [
    "plt.figure(figsize=(10, 6))\n",
    "sns.histplot(df['price'], kde=True)\n",
    "plt.title('Distribución de Precios del Vino')\n",
    "plt.xlabel('Precio')\n",
    "plt.ylabel('Frecuencia')\n",
    "plt.savefig('distribucionPrecios.png', format='png', dpi=300)\n",
    "plt.show()"
   ]
  },
  {
   "cell_type": "code",
   "execution_count": null,
   "metadata": {
    "vscode": {
     "languageId": "powershell"
    }
   },
   "outputs": [],
   "source": [
    "plt.figure(figsize=(10, 6))\n",
    "sns.histplot(df['rating'], bins=10, kde=True)\n",
    "plt.title('Distribución de Ratings del Vino')\n",
    "plt.xlabel('Rating')\n",
    "plt.ylabel('Frecuencia')\n",
    "plt.savefig('distribuciónRating.png', format='png', dpi=300)\n",
    "plt.show()"
   ]
  },
  {
   "cell_type": "code",
   "execution_count": null,
   "metadata": {
    "vscode": {
     "languageId": "powershell"
    }
   },
   "outputs": [],
   "source": [
    "plt.figure(figsize=(10, 6))\n",
    "sns.boxplot(x='country', y='price', data=df)\n",
    "plt.title('Boxplot de Precios')\n",
    "plt.xlabel(' ')\n",
    "plt.ylabel('Precio')\n",
    "plt.savefig('BoxplotPrecios.png', format='png', dpi=300)\n",
    "plt.show()"
   ]
  },
  {
   "cell_type": "code",
   "execution_count": null,
   "metadata": {
    "vscode": {
     "languageId": "powershell"
    }
   },
   "outputs": [],
   "source": [
    "plt.figure(figsize=(10, 6))\n",
    "sns.scatterplot(x='price', y='rating', data=df)\n",
    "plt.title('Relación entre Precio y Rating')\n",
    "plt.xlabel('Precio')\n",
    "plt.ylabel('Rating')\n",
    "plt.savefig('RelaciónPrecioRating.png', format='png', dpi=300)\n",
    "plt.show()"
   ]
  },
  {
   "cell_type": "code",
   "execution_count": null,
   "metadata": {
    "vscode": {
     "languageId": "powershell"
    }
   },
   "outputs": [],
   "source": [
    "\n",
    "sns.set(style=\"whitegrid\")\n",
    "def create_boxplot(df, column, title):\n",
    "    plt.figure(figsize=(10, 6))\n",
    "    ax = sns.boxplot(x=df[column])\n",
    "    ax.set_xticklabels(df['type'], rotation=45, ha='right')\n",
    "    plt.title(title)\n",
    "    plt.show()\n",
    "create_boxplot(dfclean, 'num_reviews', 'Boxplot de Número de Reseñas')\n",
    "create_boxplot(dfclean, 'price', 'Boxplot de Precio')\n",
    "create_boxplot(dfclean, 'body', 'Boxplot de Cuerpo')"
   ]
  },
  {
   "cell_type": "markdown",
   "metadata": {},
   "source": [
    "Resultados de la detección de outliers\n",
    "\n",
    "\t1.\tRating (calificación) Total de outliers detectados: 596. Estos outliers pueden indicar vinos que recibieron calificaciones extremadamente altas o bajas en comparación con otros.\n",
    "\t2.\tNúmero de reseñas Total de outliers detectados: 1622: sugiere que algunos vinos han recibido un número de reseñas significativamente mayor o menor que otros. \n",
    "\t3.\tPrecio Total de outliers detectados: 436\n",
    "\t4.\tCuerpo Total de outliers detectados: 34\n",
    "\t5.\tAcidez Total de outliers detectados: 294\n"
   ]
  },
  {
   "cell_type": "markdown",
   "metadata": {},
   "source": [
    "## Modelo de clasificación random forest"
   ]
  },
  {
   "cell_type": "code",
   "execution_count": null,
   "metadata": {
    "vscode": {
     "languageId": "powershell"
    }
   },
   "outputs": [],
   "source": [
    "df= pd.read_csv(\"dfclean.csv\") "
   ]
  },
  {
   "cell_type": "code",
   "execution_count": null,
   "metadata": {
    "vscode": {
     "languageId": "powershell"
    }
   },
   "outputs": [],
   "source": [
    "## Hacien uso de la funcion label encoder codificamos las variables, transformando las variables categoricas en numericas\n",
    "label_encoders = {}\n",
    "for column in ['wine', 'country', 'region', 'type']:\n",
    "    le = LabelEncoder()\n",
    "    df[column] = le.fit_transform(df[column])\n",
    "    label_encoders[column] = le"
   ]
  },
  {
   "cell_type": "code",
   "execution_count": null,
   "metadata": {
    "vscode": {
     "languageId": "powershell"
    }
   },
   "outputs": [],
   "source": [
    "#definimos la variable objetivo, bodega en nuestro caso. \n",
    "X = df.drop(columns='winery')\n",
    "y = df['winery']"
   ]
  },
  {
   "cell_type": "code",
   "execution_count": null,
   "metadata": {
    "vscode": {
     "languageId": "powershell"
    }
   },
   "outputs": [],
   "source": [
    "#generamos los split de entrenamiento y testeo en proporcion 80 20\n",
    "X_train, X_test, y_train, y_test = train_test_split(X, y, test_size=0.2, random_state=42)"
   ]
  },
  {
   "cell_type": "code",
   "execution_count": null,
   "metadata": {
    "vscode": {
     "languageId": "powershell"
    }
   },
   "outputs": [],
   "source": [
    "# Creamos el modelo random forest usando la libreria scikit-learn, fijamos el numero de arboles en 100 y generamos una semilla para asegurar que sea reproducible\n",
    "rf_model = RandomForestClassifier(n_estimators=100, random_state=42)\n",
    "#a continuacion enttrenamos el modelos usando los splits del paso anterior\n",
    "rf_model.fit(X_train, y_train)"
   ]
  },
  {
   "cell_type": "code",
   "execution_count": null,
   "metadata": {
    "vscode": {
     "languageId": "powershell"
    }
   },
   "outputs": [],
   "source": [
    "#ejecutamos el modelo y usando sus predicciones calculamos los estadisticos para ver como de preciso es\n",
    "y_pred = rf_model.predict(X_test)\n",
    "print(\"Accuracy:\", accuracy_score(y_test, y_pred))\n",
    "print(\"Classification Report:\\n\", classification_report(y_test, y_pred))"
   ]
  },
  {
   "cell_type": "code",
   "execution_count": null,
   "metadata": {
    "vscode": {
     "languageId": "powershell"
    }
   },
   "outputs": [],
   "source": [
    "#Creamos un array en el que asignamos a cada variable su valor de varianza explicada\n",
    "feature_importances = rf_model.feature_importances_\n",
    "features = X.columns\n",
    "\n",
    "#creamos un dataframe con los datos del paso anterior\n",
    "importance_df = pd.DataFrame({'Feature': features, 'Importance': feature_importances})\n",
    "\n",
    "#ordenamos el dataframe por orden de importancia\n",
    "importance_df = importance_df.sort_values(by='Importance', ascending=False)\n",
    "\n",
    "#lo graficamos y guardamos la imagen\n",
    "plt.figure(figsize=(10, 6))\n",
    "sns.barplot(x='Importance', y='Feature', data=importance_df)\n",
    "plt.title('Importancia de las Características en el Modelo de Random Forest')\n",
    "plt.xlabel('Importancia')\n",
    "plt.ylabel('Característica')\n",
    "plt.show()"
   ]
  },
  {
   "cell_type": "markdown",
   "metadata": {},
   "source": [
    "## Probamos el modelo que luego añadiremos al streamlit, añadiendo entradas por teclado para probar las predicciones"
   ]
  },
  {
   "cell_type": "code",
   "execution_count": null,
   "metadata": {
    "vscode": {
     "languageId": "powershell"
    }
   },
   "outputs": [],
   "source": [
    "df = pd.read_csv(\"dfclean.csv\")\n",
    "\n",
    "# Se convierten las variables categóricas a numéricas\n",
    "label_encoders = {}\n",
    "for column in ['wine', 'country', 'region', 'type']:\n",
    "    le = LabelEncoder()\n",
    "    df[column] = le.fit_transform(df[column])\n",
    "    label_encoders[column] = le\n",
    "\n",
    "# se define la variable objetivo en nuestro caso hemos elegido la bodega\n",
    "X = df.drop(columns='winery')\n",
    "y = df['winery']\n",
    "\n",
    "# Se crean el conjunto de train y test\n",
    "X_train, X_test, y_train, y_test = train_test_split(X, y, test_size=0.2, random_state=42)\n",
    "\n",
    "# Crear y entrenar el modelo de Random Forest\n",
    "rf_model = RandomForestClassifier(n_estimators=100, random_state=42)\n",
    "rf_model.fit(X_train, y_train)\n",
    "\n",
    "# obtenemos los estadisticos del modelo\n",
    "y_pred = rf_model.predict(X_test)\n",
    "print(\"Accuracy:\", accuracy_score(y_test, y_pred))\n",
    "print(\"Classification Report:\\n\", classification_report(y_test, y_pred))\n",
    "\n",
    "\n",
    "def predict_winery(wine, year, rating, num_reviews, country, region, price, wine_type, body, acidity):\n",
    "    #se codifican las variables\n",
    "    wine = label_encoders['wine'].transform([wine])[0]\n",
    "    country = label_encoders['country'].transform([country])[0]\n",
    "    region = label_encoders['region'].transform([region])[0]\n",
    "    wine_type = label_encoders['type'].transform([wine_type])[0]\n",
    "    \n",
    "    \n",
    "    new_data = pd.DataFrame({\n",
    "        'wine': [wine],\n",
    "        'year': [year],\n",
    "        'rating': [rating],\n",
    "        'num_reviews': [num_reviews],\n",
    "        'country': [country],\n",
    "        'region': [region],\n",
    "        'price': [price],\n",
    "        'type': [wine_type],\n",
    "        'body': [body],\n",
    "        'acidity': [acidity]\n",
    "    })\n",
    "\n",
    "    # Realizar la predicción\n",
    "    prediction = rf_model.predict(new_data)\n",
    "    return prediction[0]\n",
    "\n",
    "# Se piden los valores por pantalla\n",
    "print(\"Por favor ingrese los valores del vino para predecir la bodega:\")\n",
    "wine = input(\"Tipo de Vino (e.g., Tinto): \")\n",
    "year = (input(\"Año del Vino (e.g., 2013): \"))\n",
    "rating = (input(\"Rating del Vino (e.g., 4.9): \"))\n",
    "num_reviews = int(input(\"Número de Reviews (e.g., 58): \"))\n",
    "country = input(\"País del Vino (e.g., Espana): \")\n",
    "region = input(\"Región del Vino (e.g., Toro): \")\n",
    "price = (input(\"Precio del Vino (e.g., 995.0): \"))\n",
    "wine_type = input(\"Tipo de Vino (e.g., Toro Red): \")\n",
    "body = (input(\"Cuerpo del Vino (e.g., 5.0): \"))\n",
    "acidity = (input(\"Acidez del Vino (e.g., 3.0): \"))\n",
    "\n",
    "# Realizar la predicción\n",
    "prediction = predict_winery(wine, year, rating, num_reviews, country, region, price, wine_type, body, acidity)\n",
    "print(f\"La predicción de la bodega es: {prediction}\")"
   ]
  }
 ],
 "metadata": {
  "kernelspec": {
   "display_name": "Python 3",
   "language": "python",
   "name": "python3"
  },
  "language_info": {
   "codemirror_mode": {
    "name": "ipython",
    "version": 3
   },
   "file_extension": ".py",
   "mimetype": "text/x-python",
   "name": "python",
   "nbconvert_exporter": "python",
   "pygments_lexer": "ipython3",
   "version": "3.11.7"
  }
 },
 "nbformat": 4,
 "nbformat_minor": 2
}
